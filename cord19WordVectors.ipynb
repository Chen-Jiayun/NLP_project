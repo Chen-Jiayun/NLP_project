{
  "nbformat": 4,
  "nbformat_minor": 0,
  "metadata": {
    "language_info": {
      "codemirror_mode": {
        "name": "ipython",
        "version": 3
      },
      "file_extension": ".py",
      "mimetype": "text/x-python",
      "name": "python",
      "nbconvert_exporter": "python",
      "pygments_lexer": "ipython3",
      "version": "3.8.3"
    },
    "orig_nbformat": 4,
    "kernelspec": {
      "name": "python3",
      "display_name": "Python 3.8.3 64-bit"
    },
    "interpreter": {
      "hash": "aee8b7b246df8f9039afb4144a1f6fd8d2ca17a180786b69acc140d282b71a49"
    },
    "colab": {
      "name": "cord19WordVectors.ipynb",
      "provenance": [],
      "include_colab_link": true
    }
  },
  "cells": [
    {
      "cell_type": "markdown",
      "metadata": {
        "id": "view-in-github",
        "colab_type": "text"
      },
      "source": [
        "<a href=\"https://colab.research.google.com/github/iued-uni-heidelberg/cord19/blob/main/cord19WordVectors.ipynb\" target=\"_parent\"><img src=\"https://colab.research.google.com/assets/colab-badge.svg\" alt=\"Open In Colab\"/></a>"
      ]
    },
    {
      "cell_type": "markdown",
      "metadata": {
        "id": "Ty2YWcLcvKl4"
      },
      "source": [
        "# Word Vectors\n",
        "\n",
        "Presentations [slides](intro-word-vectors-DAAD-2021-v22.pdf); Original [slides](word-vectors.pdf)\n",
        "\n",
        "Word vectors (also known as 'word embeddings') are one of the most popular kinds of AI models. They are extremely useful in many domains. In essence, a word vector is a set of numbers that attempt to capture the meaning of a word. In typical implementations, each word is represented by a set of 200-300 numbers. In linear algebra, a one-dimensional array of numbers is known as a 'vector', hence these sets of numbers representing words' meanings are known as 'word vectors'.\n",
        "\n",
        "Using neural networks, we can expose the computer to a large amount of text, and allow it to learn an appropriate set of numbers for each word it encounters. In this notebook, we will learn about the most famous of all word vector algorithms, `word2vec`, which was first described by Tomas Mikolov and his team in 2013:\n",
        "\n",
        "* Tomas Mikolov, Ilya Sutskever, and others, ‘Distributed Representations of Words and Phrases and Their Compositionality’, in Advances in Neural Information Processing Systems 26, ed. by C. J. C. Burges and others (Curran Associates, Inc., 2013), pp. 3111–19 <http://papers.nips.cc/paper/5021-distributed-representations-of-words-and-phrases-and-their-compositionality.pdf>\n",
        "* Tomas Mikolov, Kai Chen, and others, ‘Efficient Estimation of Word Representations in Vector Space’, ArXiv:1301.3781 Cs, 2013 <http://arxiv.org/abs/1301.3781>.\n",
        "\n",
        "In fact, `word2vec` is not a single algorithm, but rather a family of similar algorithms. In this session we will consider just the most famous `word2vec` algorithm, namely the `skip-gram model` trained using `negative sampling`."
      ]
    },
    {
      "cell_type": "markdown",
      "metadata": {
        "id": "SWLKKQ0lvKl5"
      },
      "source": [
        "## Applications of Word Vectors\n",
        "\n",
        "Word vectors allow the computer to 'understand' language far more effectively. Rather than seeing each word as simply an arbitrarily different object, a computer using word vectors can analyse each word as a point in 200- or 300-dimenstional space. Words that are similar in meaning will have similar word vectors. And as we will see, the spaces between the word vectors are also significant: the words are arranged in patterns that represent their relationships to one another.\n",
        "\n",
        "Accordingly, most AI systems that process language now include a word vector layer as part of their architecure. When the system encounters some text (e.g. when you speak to Siri or Alexa), your words are converted into word vectors, *and then* the computer examines what the text says and determines how it should respond.\n",
        "\n",
        "In the Humanities, word vectors have become a popular modelling tool, because they allow researchers to perform sophisticated analysis on large corpora of text. Some examples include:\n",
        "\n",
        "* [The Women Writers Vector Toolkit](https://wwp.northeastern.edu/lab/wwvt/index.html)\n",
        "* William L. Hamilton, Jure Leskovec, and Dan Jurafsky, ‘Diachronic Word Embeddings Reveal Statistical Laws of Semantic Change’, ArXiv:1605.09096 [Cs], 2018 <http://arxiv.org/abs/1605.09096>.\n",
        "* Ryan Heuser, 'Semantic Networks' <https://ryanheuser.org/word-vectors-4/>"
      ]
    },
    {
      "cell_type": "markdown",
      "metadata": {
        "id": "o4ZWncLevKl5"
      },
      "source": [
        "## Training a `word2vec` model in Gensim\n",
        "\n",
        "It is very easy to train a `word2vec` model in Gensim, which includes Mikolov's original `word2vec` code in its codebase."
      ]
    },
    {
      "cell_type": "code",
      "metadata": {
        "id": "QgedLV80vKl6",
        "colab": {
          "base_uri": "https://localhost:8080/"
        },
        "outputId": "4202ac02-7b27-4a3a-e349-e5da37f01479"
      },
      "source": [
        "from gensim.models import Word2Vec # The word2vec model class\n",
        "import gensim.downloader as api # Allows us to download some free training data\n",
        "corpus = api.load('text8')\n",
        "# api.info()"
      ],
      "execution_count": null,
      "outputs": [
        {
          "output_type": "stream",
          "name": "stdout",
          "text": [
            "[==================================================] 100.0% 31.6/31.6MB downloaded\n"
          ]
        }
      ]
    },
    {
      "cell_type": "markdown",
      "metadata": {
        "id": "nvSxGbYN8aHr"
      },
      "source": [
        "text8 is first 100MB from English wikipedia, 17 million words\n",
        "\n",
        "The file is downloadable from \n",
        "http://mattmahoney.net/dc/text8.zip\n"
      ]
    },
    {
      "cell_type": "code",
      "metadata": {
        "id": "GOfGR4GVxzIY",
        "colab": {
          "base_uri": "https://localhost:8080/"
        },
        "outputId": "3e3a0abb-774d-4797-a12b-bf1e1cc831cb"
      },
      "source": [
        "# Examine the corpus to see what is there\n",
        "api.info(\"text8\")"
      ],
      "execution_count": null,
      "outputs": [
        {
          "output_type": "execute_result",
          "data": {
            "text/plain": [
              "{'checksum': '68799af40b6bda07dfa47a32612e5364',\n",
              " 'description': 'First 100,000,000 bytes of plain text from Wikipedia. Used for testing purposes; see wiki-english-* for proper full Wikipedia datasets.',\n",
              " 'file_name': 'text8.gz',\n",
              " 'file_size': 33182058,\n",
              " 'license': 'not found',\n",
              " 'num_records': 1701,\n",
              " 'parts': 1,\n",
              " 'read_more': ['http://mattmahoney.net/dc/textdata.html'],\n",
              " 'reader_code': 'https://github.com/RaRe-Technologies/gensim-data/releases/download/text8/__init__.py',\n",
              " 'record_format': 'list of str (tokens)'}"
            ]
          },
          "metadata": {},
          "execution_count": 2
        }
      ]
    },
    {
      "cell_type": "code",
      "metadata": {
        "id": "hNRnUeEDzJS8",
        "colab": {
          "base_uri": "https://localhost:8080/"
        },
        "outputId": "b36d629b-f6e2-4916-c05f-3fca16024d51"
      },
      "source": [
        "type(corpus)"
      ],
      "execution_count": null,
      "outputs": [
        {
          "output_type": "execute_result",
          "data": {
            "text/plain": [
              "text8.Dataset"
            ]
          },
          "metadata": {},
          "execution_count": 3
        }
      ]
    },
    {
      "cell_type": "code",
      "metadata": {
        "id": "dlSD09Qoz_6t"
      },
      "source": [
        "data = [d for d in corpus]"
      ],
      "execution_count": null,
      "outputs": []
    },
    {
      "cell_type": "code",
      "metadata": {
        "id": "wyeDslt-26E2"
      },
      "source": [
        "len(data)"
      ],
      "execution_count": null,
      "outputs": []
    },
    {
      "cell_type": "code",
      "metadata": {
        "id": "TUQzkxNbyTEF"
      },
      "source": [
        "len(data[0])"
      ],
      "execution_count": null,
      "outputs": []
    },
    {
      "cell_type": "code",
      "metadata": {
        "id": "sEmirZe2yR9y"
      },
      "source": [
        "print(data[0][:100])"
      ],
      "execution_count": null,
      "outputs": []
    },
    {
      "cell_type": "code",
      "metadata": {
        "id": "YkvbCylDyZF_"
      },
      "source": [
        "print(data[1][:100])"
      ],
      "execution_count": null,
      "outputs": []
    },
    {
      "cell_type": "markdown",
      "metadata": {
        "id": "_eEjBCxovKl6"
      },
      "source": [
        "### Step 1: Set hyperparameters and instantiate model"
      ]
    },
    {
      "cell_type": "code",
      "metadata": {
        "id": "K9MC27DDvKl6"
      },
      "source": [
        "vector_size = 100 # Dimensionality of the word vectors\n",
        "window = 5 # How many words either side? (5 = 5 context words either side, i.e. 10 context words in total)\n",
        "use_skip_gram = 1 # If you set this to 0, then it will create a 'continuous bag of words' model instead\n",
        "use_softmax = 0 # If you set this to 1, then hierarchical softmax will be used instead of negative sampling\n",
        "negative_samples = 5 # How many incorrect answers to generate per correct answer when negative sampling\n",
        "\n",
        "model = Word2Vec(\n",
        "    size=vector_size,\n",
        "    window=window,\n",
        "    sg=use_skip_gram,\n",
        "    hs=use_softmax,\n",
        "    negative=negative_samples\n",
        ")"
      ],
      "execution_count": null,
      "outputs": []
    },
    {
      "cell_type": "markdown",
      "metadata": {
        "id": "ofhbkdEjvKl7"
      },
      "source": [
        "### Step 2: Fit model to corpus"
      ]
    },
    {
      "cell_type": "code",
      "metadata": {
        "id": "cEieLoWlvKl7"
      },
      "source": [
        "# build a model\n",
        "model.build_vocab(corpus)"
      ],
      "execution_count": null,
      "outputs": []
    },
    {
      "cell_type": "code",
      "metadata": {
        "id": "8e_ijem9vKl7",
        "colab": {
          "base_uri": "https://localhost:8080/"
        },
        "outputId": "8e912b47-32cd-41ab-a491-a27f48bc710e"
      },
      "source": [
        "# Train the model on the corpus\n",
        "model.train(sentences=corpus, epochs=5, total_examples=model.corpus_count)"
      ],
      "execution_count": null,
      "outputs": [
        {
          "output_type": "execute_result",
          "data": {
            "text/plain": [
              "(62533475, 85026035)"
            ]
          },
          "metadata": {},
          "execution_count": 6
        }
      ]
    },
    {
      "cell_type": "markdown",
      "metadata": {
        "id": "ThYRouIevKl8"
      },
      "source": [
        "### Step 3: Extract word vectors from model\n",
        "\n",
        "The fully trained model includes all of the weights used to predict the context words for each input word. If you are not planning on training the model further, these weights can be discarded, and you can just keep the weights for the word vectors."
      ]
    },
    {
      "cell_type": "code",
      "metadata": {
        "id": "4V0LfNx_vKl8"
      },
      "source": [
        "word_vectors = model.wv\n",
        "del model # Delete the whole model to free up the computer's RAM"
      ],
      "execution_count": null,
      "outputs": []
    },
    {
      "cell_type": "markdown",
      "metadata": {
        "id": "zSkZD22AvKl8"
      },
      "source": [
        "### Step 4: Have a play with the model\n",
        "\n",
        "There are several ways you can use word vectors. One of the most famous is to use them to compute analogies. The formula is:\n",
        "\n",
        "<center><em>x</em> is to <em>small</em> as <em>biggest</em> is to <em>big</em></center>\n",
        "\n",
        "$$x - vector('small') = vector('biggest') - vector('big')$$\n",
        "\n",
        "$$\\therefore x = vector('small') + vector('biggest') - vector('big')$$"
      ]
    },
    {
      "cell_type": "code",
      "metadata": {
        "id": "2Pftv0DEvKl8"
      },
      "source": [
        "# See the word vector for a particular word\n",
        "vector = word_vectors['banana']\n",
        "print(vector)"
      ],
      "execution_count": null,
      "outputs": []
    },
    {
      "cell_type": "code",
      "metadata": {
        "id": "8_qUSF7ZvKl9"
      },
      "source": [
        "# See which words are closest to a given word in the vector space\n",
        "similar_words = word_vectors.most_similar('university', topn=10)\n",
        "print('\\n'.join([str(tup) for tup in similar_words]))"
      ],
      "execution_count": null,
      "outputs": []
    },
    {
      "cell_type": "code",
      "metadata": {
        "id": "T38xLSz62OyK"
      },
      "source": [
        "# See which words are closest to a given word in the vector space\n",
        "similar_words = word_vectors.most_similar('red', topn=10)\n",
        "print('\\n'.join([str(tup) for tup in similar_words]))"
      ],
      "execution_count": null,
      "outputs": []
    },
    {
      "cell_type": "code",
      "metadata": {
        "id": "wvyAmb152SMD"
      },
      "source": [
        "# See which words are closest to a given word in the vector space\n",
        "similar_words = word_vectors.most_similar('brussels', topn=10)\n",
        "print('\\n'.join([str(tup) for tup in similar_words]))"
      ],
      "execution_count": null,
      "outputs": []
    },
    {
      "cell_type": "code",
      "metadata": {
        "id": "r68SeidU2lRz"
      },
      "source": [
        "# See which words are closest to a given word in the vector space\n",
        "similar_words = word_vectors.most_similar('germany', topn=10)\n",
        "print('\\n'.join([str(tup) for tup in similar_words]))"
      ],
      "execution_count": null,
      "outputs": []
    },
    {
      "cell_type": "code",
      "metadata": {
        "id": "6RVNTkIs2thF"
      },
      "source": [
        "# See which words are closest to a given word in the vector space\n",
        "similar_words = word_vectors.most_similar('strange', topn=10)\n",
        "print('\\n'.join([str(tup) for tup in similar_words]))"
      ],
      "execution_count": null,
      "outputs": []
    },
    {
      "cell_type": "code",
      "metadata": {
        "id": "2Oqwf3ni21zW"
      },
      "source": [
        "# Compute analogous words\n",
        "# E.g. x is to queen as man is to king => x = v('queen') + v('man') - v('king')\n",
        "analogous_words = word_vectors.most_similar(negative=['man'], positive=['king','woman'])\n",
        "print('\\n'.join([str(tup) for tup in analogous_words]))"
      ],
      "execution_count": null,
      "outputs": []
    },
    {
      "cell_type": "code",
      "metadata": {
        "id": "0sVv80bYvKl9"
      },
      "source": [
        "# Compute analogous words\n",
        "# E.g. x is to queen as man is to king => x = v('queen') + v('man') - v('king')\n",
        "analogous_words = word_vectors.most_similar(negative=['king'], positive=['queen','man'])\n",
        "print('\\n'.join([str(tup) for tup in analogous_words]))"
      ],
      "execution_count": null,
      "outputs": []
    },
    {
      "cell_type": "code",
      "metadata": {
        "id": "q8gfHhZf3Byi"
      },
      "source": [
        "# Compute analogous words\n",
        "# E.g. x is to queen as man is to king => x = v('queen') + v('man') - v('king')\n",
        "analogous_words = word_vectors.most_similar(negative=['mother'], positive=['father','daughter'])\n",
        "print('\\n'.join([str(tup) for tup in analogous_words]))"
      ],
      "execution_count": null,
      "outputs": []
    },
    {
      "cell_type": "code",
      "metadata": {
        "id": "IuzURZa_6hQC"
      },
      "source": [
        "# Compute analogous words\n",
        "# E.g. x is to queen as man is to king => x = v('queen') + v('man') - v('king')\n",
        "analogous_words = word_vectors.most_similar(negative=['mother'], positive=['father','girl'])\n",
        "print('\\n'.join([str(tup) for tup in analogous_words]))"
      ],
      "execution_count": null,
      "outputs": []
    },
    {
      "cell_type": "code",
      "metadata": {
        "id": "PzzlKdei6uiW"
      },
      "source": [
        "# Compute analogous words\n",
        "# x is to daughter as people is to person (plural + daughter)\n",
        "analogous_words = word_vectors.most_similar(negative=['person'], positive=['people','daughter'])\n",
        "print('\\n'.join([str(tup) for tup in analogous_words]))"
      ],
      "execution_count": null,
      "outputs": []
    },
    {
      "cell_type": "code",
      "metadata": {
        "id": "UUHti67skB6A"
      },
      "source": [
        "analogous_words = word_vectors.most_similar(negative=['soft'], positive=['hard','softest'])\n",
        "print('\\n'.join([str(tup) for tup in analogous_words]))"
      ],
      "execution_count": null,
      "outputs": []
    },
    {
      "cell_type": "markdown",
      "metadata": {
        "id": "22fSc-iyvKl9"
      },
      "source": [
        "## Step 4A - optional. Using pre-trained models in Gensim\n",
        "\n",
        "In many applications, you will simply want access to pre-trained word vectors (e.g. for plugging in to another model you are training). If you don't need the vectors to be tailored closely to your particular corpus, then you might like to use some pretrained models.\n",
        "\n",
        "`word2vec` is not the only word embedding family of algorithms. Another, arguably even more powerful algorithm is the `FastText` algorithm, which Mikolov developed after moving to Facebook:\n",
        "\n",
        "* Piotr Bojanowski and others, ‘Enriching Word Vectors with Subword Information’, ArXiv:1607.04606, 2017 <http://arxiv.org/abs/1607.04606>.\n",
        "\n",
        "Instead of computing word vectors for each word, FastText splits each word into its constituent chunks. For example, 'cat' would be split into 'c', 'a', 't', 'ca', 'at' and 'cat', and 'burp' would be split into 'b', 'u', 'r', 'p', 'bu', 'ur', 'rp', 'bur', 'urp' and 'burp'. Then a vector is computer for each chunk that appears in the corpus. Each word is represented as the mean of all the chunks that make it up. FastText is able to learn very good word vectors because it can extract meaning from subword units, e.g. it can see that 'television', 'telegraph' and 'telepathy' all have 'tele' at the front, and can see that 'formality', 'criminality' and 'paucity' share subword units such as 'al' and 'ity'.\n",
        "\n",
        "You can access many pretrained models using the Gensim downloader. Using the cells below, you can try out some of the different models available through Gensim. Along with `word2vec` and `FastText`, Gensim also supports `Glove` and `Doc2Vec` models.\n",
        "\n",
        "**NB:** These trained models are very large, and will take a while to download. You may wish to download this notebook and execute the cells below on your own machine, in case Google kicks you out of the Colab environment."
      ]
    },
    {
      "cell_type": "code",
      "metadata": {
        "id": "rldVE5pmvKl-"
      },
      "source": [
        "# See what models are on offer\n",
        "print(list(api.info()['models'].keys()))"
      ],
      "execution_count": null,
      "outputs": []
    },
    {
      "cell_type": "code",
      "metadata": {
        "id": "nMTAxneZ7OaZ"
      },
      "source": [
        "# Optional! THIS WILL TAKE SOME TIME!!!\n",
        "# 300-dimensional word vectors trained on a huge dataset from Google News\n",
        "google_news_w2v = api.load('word2vec-google-news-300')"
      ],
      "execution_count": null,
      "outputs": []
    },
    {
      "cell_type": "code",
      "metadata": {
        "id": "uTKwcm_7vKl-"
      },
      "source": [
        "# x is to Kenya as Canberra is to Australia\n",
        "google_news_w2v.most_similar(negative=['australia'],positive=['kenya','canberra'], topn=10)"
      ],
      "execution_count": null,
      "outputs": []
    },
    {
      "cell_type": "code",
      "metadata": {
        "id": "mPZl6qzEvKl-"
      },
      "source": [
        "# Optional! THIS WILL TAKE SOME TIME!!!\n",
        "# Facebook's own FastText vectors, trained on Wikipedia\n",
        "wikipedia_fasttext = api.load('fasttext-wiki-news-subwords-300')"
      ],
      "execution_count": null,
      "outputs": []
    },
    {
      "cell_type": "code",
      "metadata": {
        "id": "w4xj0CGQ7iFg"
      },
      "source": [
        "# x is to Wharton as London is to Dickens\n",
        "wikipedia_fasttext.most_similar(negative=['dickens'],positive=['wharton','london'], topn=10)"
      ],
      "execution_count": null,
      "outputs": []
    },
    {
      "cell_type": "code",
      "metadata": {
        "id": "H4gsyd3-_8eN"
      },
      "source": [
        "# try your own examples... "
      ],
      "execution_count": null,
      "outputs": []
    },
    {
      "cell_type": "markdown",
      "metadata": {
        "id": "NqVFfYx878cA"
      },
      "source": [
        "## Step 5. Training the Armenian and Georgian models\n",
        "\n",
        "Now let's train a model on our own corpus. You can try to create Armenian / Ukrainian / Russian / German / French word vector model.\n",
        "\n",
        "Armenian, Ukrainian, Russian plaintext wikipedias are available at:\n",
        "https://lindat.mff.cuni.cz/repository/xmlui/handle/11234/1-2735#\n",
        "\n",
        "We can use the same size ~15 Million Words, (200MB) of these corpora to make sure the model is built within a reasonable time; however, when you have more time, you can try a more complete corpus.\n",
        "\n",
        "It is possible to download/unzip/upload the files manually, however, it is faster to automatically load them directly from Heidelberg server space https://heibox.uni-heidelberg.de/d/42a07c9e95774e099a81/  into your colab environment. To do this run the cells 5a or 5b, or 5c, or 5d, or 5e -- depending on which language you prefer -- to download the data. Then skip other language and continue with Step5 -- building the model for your preferred language from the data you downloaded.\n"
      ]
    },
    {
      "cell_type": "code",
      "metadata": {
        "id": "8uwDxwRTSnqY",
        "colab": {
          "base_uri": "https://localhost:8080/"
        },
        "outputId": "60eb32b2-9ed8-4c24-bc79-a1c725dd1628"
      },
      "source": [
        "!rm /usr/local/lib/python3.7/dist-packages/gensim/test/test_data/myOwnLangText8.txt\n",
        "!rm index.html?dl=1"
      ],
      "execution_count": null,
      "outputs": [
        {
          "output_type": "stream",
          "name": "stdout",
          "text": [
            "rm: cannot remove '/usr/local/lib/python3.7/dist-packages/gensim/test/test_data/myOwnLangText8.txt': No such file or directory\n",
            "rm: cannot remove 'index.html?dl=1': No such file or directory\n"
          ]
        }
      ]
    },
    {
      "cell_type": "markdown",
      "metadata": {
        "id": "EPZo393WEWGW"
      },
      "source": [
        "### Either: 5a Armenian"
      ]
    },
    {
      "cell_type": "code",
      "metadata": {
        "id": "jLc70OaADDsY"
      },
      "source": [
        "!wget https://heibox.uni-heidelberg.de/f/ffe527ed3d1e4b4cb43a/?dl=1"
      ],
      "execution_count": null,
      "outputs": []
    },
    {
      "cell_type": "code",
      "metadata": {
        "id": "Yj1swlOVH4J9"
      },
      "source": [
        "!cp index.html?dl=1 /usr/local/lib/python3.7/dist-packages/gensim/test/test_data/myOwnLangText8.txt"
      ],
      "execution_count": null,
      "outputs": []
    },
    {
      "cell_type": "code",
      "metadata": {
        "id": "ASwFiA0tPfBn"
      },
      "source": [
        "!head --lines=15 /usr/local/lib/python3.7/dist-packages/gensim/test/test_data/myOwnLangText8.txt"
      ],
      "execution_count": null,
      "outputs": []
    },
    {
      "cell_type": "markdown",
      "metadata": {
        "id": "lfLTw8mHGUA6"
      },
      "source": [
        ""
      ]
    },
    {
      "cell_type": "markdown",
      "metadata": {
        "id": "teve3mqpEdgG"
      },
      "source": [
        "### Or: 5b Ukrainian"
      ]
    },
    {
      "cell_type": "code",
      "metadata": {
        "id": "Pz-lMC8ZEgTQ"
      },
      "source": [
        "!wget https://heibox.uni-heidelberg.de/f/676bef3a6db8482e9665/?dl=1"
      ],
      "execution_count": null,
      "outputs": []
    },
    {
      "cell_type": "code",
      "metadata": {
        "id": "3Kw3XZQPH47I"
      },
      "source": [
        "!cp index.html?dl=1 /usr/local/lib/python3.7/dist-packages/gensim/test/test_data/myOwnLangText8.txt"
      ],
      "execution_count": null,
      "outputs": []
    },
    {
      "cell_type": "code",
      "metadata": {
        "id": "ARd-3RfY8mw5"
      },
      "source": [
        "!head --lines=15 /usr/local/lib/python3.7/dist-packages/gensim/test/test_data/myOwnLangText8.txt"
      ],
      "execution_count": null,
      "outputs": []
    },
    {
      "cell_type": "markdown",
      "metadata": {
        "id": "OKKHYl4dFFcT"
      },
      "source": [
        "### Or: 5c German"
      ]
    },
    {
      "cell_type": "code",
      "metadata": {
        "id": "k9i_seazFN9i"
      },
      "source": [
        "!wget https://heibox.uni-heidelberg.de/f/ca0a085347c34563a6e6/?dl=1"
      ],
      "execution_count": null,
      "outputs": []
    },
    {
      "cell_type": "code",
      "metadata": {
        "id": "m13CwxeEH9dk"
      },
      "source": [
        "!cp index.html?dl=1 /usr/local/lib/python3.7/dist-packages/gensim/test/test_data/myOwnLangText8.txt"
      ],
      "execution_count": null,
      "outputs": []
    },
    {
      "cell_type": "code",
      "metadata": {
        "id": "RBO_zgLb8vJm"
      },
      "source": [
        "!head --lines=15 /usr/local/lib/python3.7/dist-packages/gensim/test/test_data/myOwnLangText8.txt"
      ],
      "execution_count": null,
      "outputs": []
    },
    {
      "cell_type": "markdown",
      "metadata": {
        "id": "PWDlNugkFOZP"
      },
      "source": [
        "### Or: 5d French"
      ]
    },
    {
      "cell_type": "code",
      "metadata": {
        "id": "eL18LA1PFRAM"
      },
      "source": [
        "!wget https://heibox.uni-heidelberg.de/f/5cdb485efd4046f2a457/?dl=1"
      ],
      "execution_count": null,
      "outputs": []
    },
    {
      "cell_type": "code",
      "metadata": {
        "id": "BorzWO26H-Gx"
      },
      "source": [
        "!cp index.html?dl=1 /usr/local/lib/python3.7/dist-packages/gensim/test/test_data/myOwnLangText8.txt"
      ],
      "execution_count": null,
      "outputs": []
    },
    {
      "cell_type": "code",
      "metadata": {
        "id": "RushLVUX8w5k"
      },
      "source": [
        "!head --lines=15 /usr/local/lib/python3.7/dist-packages/gensim/test/test_data/myOwnLangText8.txt"
      ],
      "execution_count": null,
      "outputs": []
    },
    {
      "cell_type": "markdown",
      "metadata": {
        "id": "wHgYuC3WEkP9"
      },
      "source": [
        "### Or: 5e Russian"
      ]
    },
    {
      "cell_type": "code",
      "metadata": {
        "id": "bLZGPlAnE_-F"
      },
      "source": [
        "!wget https://heibox.uni-heidelberg.de/f/d8d381152ceb479080ca/?dl=1"
      ],
      "execution_count": null,
      "outputs": []
    },
    {
      "cell_type": "code",
      "metadata": {
        "id": "eY15aeujOCy-"
      },
      "source": [
        "!cp index.html?dl=1 /usr/local/lib/python3.7/dist-packages/gensim/test/test_data/myOwnLangText8.txt"
      ],
      "execution_count": null,
      "outputs": []
    },
    {
      "cell_type": "code",
      "metadata": {
        "id": "tRkIAM638ygM"
      },
      "source": [
        "!head --lines=15 /usr/local/lib/python3.7/dist-packages/gensim/test/test_data/myOwnLangText8.txt"
      ],
      "execution_count": null,
      "outputs": []
    },
    {
      "cell_type": "markdown",
      "metadata": {
        "id": "5vgYZ0IfGY2l"
      },
      "source": [
        "### Or: 5f Georgian"
      ]
    },
    {
      "cell_type": "code",
      "metadata": {
        "id": "imZY_tHOGc-m"
      },
      "source": [
        "!wget https://heibox.uni-heidelberg.de/f/fa3509d869b949459f91/?dl=1"
      ],
      "execution_count": null,
      "outputs": []
    },
    {
      "cell_type": "markdown",
      "metadata": {
        "id": "0ZZvDBTq3E8f"
      },
      "source": [
        "Lemmatized corpus"
      ]
    },
    {
      "cell_type": "code",
      "metadata": {
        "id": "767DwIll3IP6",
        "colab": {
          "base_uri": "https://localhost:8080/"
        },
        "outputId": "6a976600-f46c-42b7-c1f3-159e05adf6da"
      },
      "source": [
        "!wget https://heibox.uni-heidelberg.de/f/b381c458ad5e4773a77d/?dl=1"
      ],
      "execution_count": null,
      "outputs": [
        {
          "output_type": "stream",
          "name": "stdout",
          "text": [
            "--2021-09-03 08:53:16--  https://heibox.uni-heidelberg.de/f/b381c458ad5e4773a77d/?dl=1\n",
            "Resolving heibox.uni-heidelberg.de (heibox.uni-heidelberg.de)... 129.206.7.113\n",
            "Connecting to heibox.uni-heidelberg.de (heibox.uni-heidelberg.de)|129.206.7.113|:443... connected.\n",
            "HTTP request sent, awaiting response... 302 Found\n",
            "Location: https://heibox.uni-heidelberg.de/seafhttp/files/7b521159-dc90-4e0f-89fa-6876b167b9fb/ka_lem.txt [following]\n",
            "--2021-09-03 08:53:16--  https://heibox.uni-heidelberg.de/seafhttp/files/7b521159-dc90-4e0f-89fa-6876b167b9fb/ka_lem.txt\n",
            "Reusing existing connection to heibox.uni-heidelberg.de:443.\n",
            "HTTP request sent, awaiting response... 200 OK\n",
            "Length: 329202500 (314M) [text/plain]\n",
            "Saving to: ‘index.html?dl=1’\n",
            "\n",
            "index.html?dl=1     100%[===================>] 313.95M  14.9MB/s    in 21s     \n",
            "\n",
            "2021-09-03 08:53:37 (15.2 MB/s) - ‘index.html?dl=1’ saved [329202500/329202500]\n",
            "\n"
          ]
        }
      ]
    },
    {
      "cell_type": "code",
      "metadata": {
        "id": "kq2qM74k3Wfe"
      },
      "source": [
        "!cp index.html?dl=1 wiki_geo_lem.txt"
      ],
      "execution_count": null,
      "outputs": []
    },
    {
      "cell_type": "code",
      "metadata": {
        "id": "1UUAVq_W3fqU",
        "colab": {
          "base_uri": "https://localhost:8080/"
        },
        "outputId": "6fc4f801-b422-441f-b59a-9382b44092af"
      },
      "source": [
        "!head --lines=10 wiki_geo_lem.txt"
      ],
      "execution_count": null,
      "outputs": [
        {
          "output_type": "stream",
          "name": "stdout",
          "text": [
            "ედუარდი\r\n",
            "შევარდნაძე\r\n",
            "ედუარდი\r\n",
            "ამბროსის\r\n",
            "ძე\r\n",
            "შევარდნაძე\r\n",
            "(\r\n",
            "დ\r\n",
            ".\r\n",
            "25\r\n"
          ]
        }
      ]
    },
    {
      "cell_type": "code",
      "metadata": {
        "id": "sDSkZErA3s8Z"
      },
      "source": [
        "FIn = open(\"wiki_geo_lem.txt\", 'r')\n",
        "FOut = open('wiki_geo_l.txt', 'w')\n",
        "\n",
        "i = 0\n",
        "for SLine in FIn:\n",
        "  i = i + 1\n",
        "  SLine = SLine.strip() + ' '\n",
        "  if i % 10000 == 0:\n",
        "    SLine += '\\n'\n",
        "  \n",
        "  FOut.write(SLine)\n",
        "\n",
        "FOut.flush()\n",
        "FOut.close()\n"
      ],
      "execution_count": null,
      "outputs": []
    },
    {
      "cell_type": "code",
      "metadata": {
        "id": "rMGSnTHV5WyM"
      },
      "source": [
        "!head --lines=10 wiki_geo_l.txt"
      ],
      "execution_count": null,
      "outputs": []
    },
    {
      "cell_type": "code",
      "metadata": {
        "id": "e9_T1Dwz5sD9",
        "colab": {
          "base_uri": "https://localhost:8080/"
        },
        "outputId": "59125cfd-3027-4ed7-b6a3-e694e42e9049"
      },
      "source": [
        "!wc wiki_geo_lem.txt"
      ],
      "execution_count": null,
      "outputs": [
        {
          "output_type": "stream",
          "name": "stdout",
          "text": [
            " 18054750  18054749 329202500 wiki_geo_lem.txt\n"
          ]
        }
      ]
    },
    {
      "cell_type": "code",
      "metadata": {
        "id": "KrWmuRyEGk__"
      },
      "source": [
        "!cp index.html?dl=1 /usr/local/lib/python3.7/dist-packages/gensim/test/test_data/myOwnLangText8.txt"
      ],
      "execution_count": null,
      "outputs": []
    },
    {
      "cell_type": "markdown",
      "metadata": {
        "id": "Qg5rl4vM6QjO"
      },
      "source": [
        "Alternatively, copy lemmatized corpus"
      ]
    },
    {
      "cell_type": "code",
      "metadata": {
        "id": "ZcDakluj6C2G"
      },
      "source": [
        "!cp wiki_geo_l.txt /usr/local/lib/python3.7/dist-packages/gensim/test/test_data/myOwnLangText8.txt"
      ],
      "execution_count": null,
      "outputs": []
    },
    {
      "cell_type": "code",
      "metadata": {
        "id": "Beg4vzqFGono"
      },
      "source": [
        "!head --lines=15 /usr/local/lib/python3.7/dist-packages/gensim/test/test_data/myOwnLangText8.txt"
      ],
      "execution_count": null,
      "outputs": []
    },
    {
      "cell_type": "markdown",
      "metadata": {
        "id": "xF5AOwyWH2l4"
      },
      "source": [
        "## or: CORD corpus models\n",
        "modify this to merge more files into your corpus "
      ]
    },
    {
      "cell_type": "code",
      "metadata": {
        "id": "wzsJM-_MH6un"
      },
      "source": [
        "!rm /usr/local/lib/python3.7/dist-packages/gensim/test/test_data/myOwnLangText8.txt\n"
      ],
      "execution_count": 49,
      "outputs": []
    },
    {
      "cell_type": "code",
      "metadata": {
        "id": "2eH5fU-jJjev"
      },
      "source": [
        "!wget https://heibox.uni-heidelberg.de/f/e9643d5305d94c5cb787/?dl=1\n",
        "!mv index.html?dl=1 file1.zip\n",
        "!wget https://heibox.uni-heidelberg.de/f/76525e4278114c438f1c/?dl=1\n",
        "!mv index.html?dl=1 file2.zip\n",
        "!wget https://heibox.uni-heidelberg.de/f/062f72f9e79e4ba5ae4e/?dl=1\n",
        "!mv index.html?dl=1 file3.zip\n",
        "!wget https://heibox.uni-heidelberg.de/f/4e290ad989a046caaef4/?dl=1\n",
        "!mv index.html?dl=1 file4.zip\n",
        "!wget https://heibox.uni-heidelberg.de/f/5ec055c8956348d98a44/?dl=1\n",
        "!mv index.html?dl=1 file5.zip\n",
        "\n",
        "!unzip file1.zip\n",
        "!unzip file2.zip\n",
        "!unzip file3.zip\n",
        "!unzip file4.zip\n",
        "!unzip file5.zip"
      ],
      "execution_count": null,
      "outputs": []
    },
    {
      "cell_type": "code",
      "metadata": {
        "id": "t5f79XcHIFKf"
      },
      "source": [
        "!rm file*.zip\n",
        "!cat covid1_lem.txt covid2_lem.txt covid3_lem.txt covid4_lem.txt covid5_lem.txt >covid_lem.txt\n",
        "!cp covid_lem.txt /usr/local/lib/python3.7/dist-packages/gensim/test/test_data/myOwnLangText8.txt\n",
        "!head --lines=15 /usr/local/lib/python3.7/dist-packages/gensim/test/test_data/myOwnLangText8.txt\n",
        "\n",
        "!head --lines=10 covid_lem.txt\n",
        "!wc covid_lem.txt\n",
        "!rm covid_lem.txt\n",
        "\n"
      ],
      "execution_count": null,
      "outputs": []
    },
    {
      "cell_type": "markdown",
      "metadata": {
        "id": "-AJ9guGSNkyw"
      },
      "source": [
        "### Stage6: Training own model"
      ]
    },
    {
      "cell_type": "markdown",
      "metadata": {
        "id": "kCj_-BYcOe7A"
      },
      "source": [
        "optional: to clean disk space, we remove the downloaded file"
      ]
    },
    {
      "cell_type": "code",
      "metadata": {
        "id": "NnO8k3CWOdqK"
      },
      "source": [
        "# optional: to clean disk space, we remove the downloaded file\n",
        "!rm index.html\\?dl\\=1"
      ],
      "execution_count": null,
      "outputs": []
    },
    {
      "cell_type": "code",
      "metadata": {
        "id": "3AAzBAWaPQZB"
      },
      "source": [
        "from gensim.test.utils import datapath\n",
        "from gensim import utils\n",
        "\n",
        "class MyCorpus:\n",
        "    \"\"\"An iterator that yields sentences (lists of str).\"\"\"\n",
        "\n",
        "    def __iter__(self):\n",
        "        corpus_path = datapath('myOwnLangText8.txt')\n",
        "        for line in open(corpus_path):\n",
        "            # assume there's one document per line, tokens separated by whitespace\n",
        "            yield utils.simple_preprocess(line)"
      ],
      "execution_count": 7,
      "outputs": []
    },
    {
      "cell_type": "code",
      "metadata": {
        "id": "i9VFjEuyQQ1u"
      },
      "source": [
        "import gensim.models\n",
        "corpusOwn = MyCorpus()"
      ],
      "execution_count": 8,
      "outputs": []
    },
    {
      "cell_type": "markdown",
      "metadata": {
        "id": "DARUsusgQyWO"
      },
      "source": [
        "optional: examining what is in the corpus after standard preprocessing"
      ]
    },
    {
      "cell_type": "code",
      "metadata": {
        "id": "-tLeaX0rQiD7",
        "colab": {
          "base_uri": "https://localhost:8080/"
        },
        "outputId": "176d1b6b-11dc-48d6-cba8-7ec456a191da"
      },
      "source": [
        "# Optional: Examining our corpus format\n",
        "type(corpusOwn)"
      ],
      "execution_count": 9,
      "outputs": [
        {
          "output_type": "execute_result",
          "data": {
            "text/plain": [
              "__main__.MyCorpus"
            ]
          },
          "metadata": {},
          "execution_count": 9
        }
      ]
    },
    {
      "cell_type": "code",
      "metadata": {
        "id": "zSzwUYw_QxYD"
      },
      "source": [
        "dataOwn = [d for d in corpusOwn]"
      ],
      "execution_count": 10,
      "outputs": []
    },
    {
      "cell_type": "code",
      "metadata": {
        "id": "4YWSko1SRLJl"
      },
      "source": [
        "print(len(dataOwn))\n",
        "print(dataOwn[0])\n",
        "print(len(dataOwn[0]))\n",
        "print(dataOwn[4])\n",
        "print(len(dataOwn[4]))\n",
        "print(dataOwn[5])\n",
        "print(len(dataOwn[5]))"
      ],
      "execution_count": null,
      "outputs": []
    },
    {
      "cell_type": "markdown",
      "metadata": {
        "id": "468wJ6YkVNad"
      },
      "source": [
        "... Initialising global parameters for our modelL vector size, collocation window, skip-grams, negative sampling...."
      ]
    },
    {
      "cell_type": "code",
      "metadata": {
        "id": "sJBwk5p9K4C0"
      },
      "source": [
        "del dataOwn"
      ],
      "execution_count": 12,
      "outputs": []
    },
    {
      "cell_type": "code",
      "metadata": {
        "id": "h8Eep9wyHh9d"
      },
      "source": [
        "from gensim.models import Word2Vec # The word2vec model class\n",
        "import gensim.downloader as api # Allows us to download some free training data"
      ],
      "execution_count": 13,
      "outputs": []
    },
    {
      "cell_type": "code",
      "metadata": {
        "id": "xObhQQ2SVBDn"
      },
      "source": [
        "vector_size = 100 # Dimensionality of the word vectors\n",
        "window = 5 # How many words either side? (5 = 5 context words either side, i.e. 10 context words in total)\n",
        "use_skip_gram = 1 # If you set this to 0, then it will create a 'continuous bag of words' model instead\n",
        "use_softmax = 0 # If you set this to 1, then hierarchical softmax will be used instead of negative sampling\n",
        "negative_samples = 5 # How many incorrect answers to generate per correct answer when negative sampling\n",
        "\n",
        "modelOwn = Word2Vec(\n",
        "    size=vector_size,\n",
        "    window=window,\n",
        "    sg=use_skip_gram,\n",
        "    hs=use_softmax,\n",
        "    negative=negative_samples\n",
        ")"
      ],
      "execution_count": 33,
      "outputs": []
    },
    {
      "cell_type": "markdown",
      "metadata": {
        "id": "e_QILgoIVeea"
      },
      "source": [
        "... this cell may run for ~2 min or so..."
      ]
    },
    {
      "cell_type": "code",
      "metadata": {
        "id": "gaecmdkPVLCh"
      },
      "source": [
        "modelOwn.build_vocab(corpusOwn)"
      ],
      "execution_count": 34,
      "outputs": []
    },
    {
      "cell_type": "markdown",
      "metadata": {
        "id": "HEdwCKEVVnGv"
      },
      "source": [
        "THIS MAY TAKE LONG!!! ... training the model may take 9 to 15 minutes... (just grab a cup of coffee or a sandwich while you are waiting... You may try chaning the number of epochs; if the number is lower the training is faster, but the quality may be lower...\n",
        "\n",
        "5 epochs = 50 min\n",
        "8 epochs = 1 h 17 min (77 min)\n",
        "10 epochs ~? 100 min ~ 1h 40 min?"
      ]
    },
    {
      "cell_type": "code",
      "metadata": {
        "id": "UrvDUrOJVxOG",
        "colab": {
          "base_uri": "https://localhost:8080/"
        },
        "outputId": "a956d18b-9351-42e6-d4da-a12851b29412"
      },
      "source": [
        "modelOwn.train(sentences=corpusOwn, epochs=10, total_examples=modelOwn.corpus_count)"
      ],
      "execution_count": 35,
      "outputs": [
        {
          "output_type": "execute_result",
          "data": {
            "text/plain": [
              "(524576887, 688888256)"
            ]
          },
          "metadata": {},
          "execution_count": 35
        }
      ]
    },
    {
      "cell_type": "markdown",
      "metadata": {
        "id": "trrJqAeUWWmL"
      },
      "source": [
        "Now we copy word vectors and remove the model from memory (just to free up the resources...)"
      ]
    },
    {
      "cell_type": "code",
      "metadata": {
        "id": "h2GbyMw5WVZd"
      },
      "source": [
        "word_vectors_own = modelOwn.wv"
      ],
      "execution_count": 36,
      "outputs": []
    },
    {
      "cell_type": "code",
      "metadata": {
        "id": "vjLyitW5Whff"
      },
      "source": [
        "del modelOwn"
      ],
      "execution_count": 18,
      "outputs": []
    },
    {
      "cell_type": "code",
      "metadata": {
        "colab": {
          "base_uri": "https://localhost:8080/"
        },
        "id": "k_AGZILaYvAJ",
        "outputId": "ab9c6772-dc1e-446f-ced4-289a6d9e0e67"
      },
      "source": [
        "vector = word_vectors_own['however']\n",
        "print(vector)"
      ],
      "execution_count": 37,
      "outputs": [
        {
          "output_type": "stream",
          "name": "stdout",
          "text": [
            "[ 0.05926263 -0.15667033  0.03318803 -0.18686087 -0.01929474  0.0850039\n",
            " -0.45187265 -0.06674725 -0.21036066  0.15188602 -0.11955456 -0.24665129\n",
            " -0.17086191  0.1575264   0.1435385   0.05060921  0.13252607  0.05781075\n",
            " -0.2439971  -0.21926726  0.17216878  0.08300912  0.01004632  0.07455021\n",
            "  0.1758465   0.09111493  0.27284402 -0.05395681 -0.00918299 -0.18407369\n",
            " -0.17696461  0.2809646  -0.14535953 -0.09520941  0.05423077  0.32214114\n",
            "  0.15689044 -0.01155012  0.22412404  0.17828822  0.23961754 -0.1286369\n",
            " -0.03883589  0.1639629  -0.14529589 -0.40622824  0.12130663  0.21533312\n",
            " -0.05149914  0.07464544  0.02623041  0.20257315  0.02297816 -0.04642959\n",
            " -0.30257323  0.10443529  0.10155771 -0.04316276  0.06895683 -0.15213935\n",
            "  0.02633966  0.19673464 -0.10915372  0.24391913 -0.34283364 -0.33969817\n",
            " -0.09345365  0.06161407  0.2184848   0.18220435  0.00633711 -0.20755926\n",
            " -0.09029377  0.31810436  0.17724325 -0.04032632  0.13063999  0.10723896\n",
            "  0.06444924  0.22883163  0.11574932  0.0286354   0.33301505  0.00929756\n",
            "  0.23733549 -0.3116347  -0.06416965  0.30950138 -0.17339744 -0.12694962\n",
            "  0.15205944  0.1024484   0.34145615  0.03361854 -0.11264163  0.35280678\n",
            " -0.2954409  -0.261902    0.3749097   0.15058918]\n"
          ]
        }
      ]
    },
    {
      "cell_type": "code",
      "metadata": {
        "colab": {
          "base_uri": "https://localhost:8080/"
        },
        "id": "qgbKj9mUY2Ic",
        "outputId": "4acc39ef-17a4-490a-8185-6c5fbf5f0069"
      },
      "source": [
        "similar_words = word_vectors_own.most_similar('however', topn=30)\n",
        "print('\\n'.join([str(tup) for tup in similar_words]))"
      ],
      "execution_count": 48,
      "outputs": [
        {
          "output_type": "stream",
          "name": "stdout",
          "text": [
            "('although', 0.9558818340301514)\n",
            "('nevertheless', 0.944508969783783)\n",
            "('nonetheless', 0.9050902128219604)\n",
            "('moreover', 0.861580491065979)\n",
            "('furthermore', 0.8573136925697327)\n",
            "('unfortunately', 0.8478303551673889)\n",
            "('though', 0.8315995335578918)\n",
            "('indeed', 0.8223739266395569)\n",
            "('while', 0.8093974590301514)\n",
            "('still', 0.805526614189148)\n",
            "('surprisingly', 0.8004773855209351)\n",
            "('but', 0.7992550134658813)\n",
            "('additionally', 0.7867470979690552)\n",
            "('despite', 0.7771902084350586)\n",
            "('therefore', 0.7697354555130005)\n",
            "('likewise', 0.7666776776313782)\n",
            "('besides', 0.7603017091751099)\n",
            "('importantly', 0.7583843469619751)\n",
            "('notably', 0.7536568641662598)\n",
            "('thirdly', 0.7478072047233582)\n",
            "('notwithstanding', 0.7448851466178894)\n",
            "('fortunately', 0.7411450147628784)\n",
            "('lastly', 0.7401111721992493)\n",
            "('meanwhile', 0.7368455529212952)\n",
            "('interestingly', 0.736506998538971)\n",
            "('because', 0.7339373230934143)\n",
            "('thus', 0.7322976589202881)\n",
            "('since', 0.7287991046905518)\n",
            "('whilst', 0.7268706560134888)\n",
            "('yet', 0.7228360772132874)\n"
          ]
        }
      ]
    },
    {
      "cell_type": "markdown",
      "metadata": {
        "id": "q-ipjoSmWtOR"
      },
      "source": [
        "Now we can examine the output of our word embeddings"
      ]
    },
    {
      "cell_type": "markdown",
      "metadata": {
        "id": "1f-JPmP0JILh"
      },
      "source": [
        "### Georgian examples"
      ]
    },
    {
      "cell_type": "code",
      "metadata": {
        "id": "PhbX0fpdH90R",
        "colab": {
          "base_uri": "https://localhost:8080/"
        },
        "outputId": "c816f8b2-67dc-4231-dba3-994553db9f6a"
      },
      "source": [
        "# See the word vector for a particular word -- 'world'\n",
        "vector = word_vectors_own['სამყარო']\n",
        "print(vector)"
      ],
      "execution_count": null,
      "outputs": [
        {
          "output_type": "stream",
          "name": "stdout",
          "text": [
            "[-0.62176156  0.23949477 -0.5179568   1.001093   -0.12505919  0.23363337\n",
            "  0.36481667 -0.33915916 -0.06151456 -0.15845872  0.1443672   0.35141632\n",
            "  0.41165924  0.5007546   0.04449251  0.6967667  -0.27176398  0.05205816\n",
            "  0.27029327  0.20663835 -0.36598527 -0.14222133  0.16173883 -0.08235938\n",
            " -0.5496693  -0.15209736  0.48121738 -0.15404233  0.8891668   0.76310915\n",
            " -0.3202305  -0.18489017  0.3939411   0.15373786  0.02998169  0.20106426\n",
            " -0.0862966  -0.50034994 -0.05873515 -0.24013674  0.12750806  0.17326556\n",
            " -0.29788643  0.68244714 -0.21748939 -0.42120582  0.13775422 -0.35998118\n",
            "  0.36402082  0.10524762 -0.0595954   0.3082781  -0.263306   -0.60933733\n",
            " -0.21795647 -0.04971887  0.09330089  0.01892476 -0.49159762 -0.11128791\n",
            " -0.30394047 -0.82244855 -0.48691386 -0.17550847 -0.15397266 -0.08480422\n",
            " -0.20583957 -0.67179024  0.77594376 -0.4534941   0.0747933   0.30824754\n",
            " -0.17382185 -0.47079867 -0.27730626  0.18782099 -0.10516048  0.51495117\n",
            "  0.23847543 -0.11177064  0.04745216  0.10895227 -0.38431525 -0.05231542\n",
            "  0.12281422  0.46670038 -0.5841041   0.08548378  0.45749214 -0.84002733\n",
            "  0.43263742  0.3480273   0.23583433  0.16427991  0.1476372  -0.08767237\n",
            " -0.12361091 -0.13932306 -0.19800676 -0.17136449]\n"
          ]
        }
      ]
    },
    {
      "cell_type": "code",
      "metadata": {
        "id": "K0dPtZK2IkpT",
        "colab": {
          "base_uri": "https://localhost:8080/"
        },
        "outputId": "0ad643e7-3ac7-4e2b-949d-e04e6abee80d"
      },
      "source": [
        "# See which words are closest to a given word in the vector space = 'world'\n",
        "similar_words = word_vectors_own.most_similar('არსება', topn=30)\n",
        "print('\\n'.join([str(tup) for tup in similar_words]))"
      ],
      "execution_count": null,
      "outputs": [
        {
          "output_type": "stream",
          "name": "stdout",
          "text": [
            "('არსების', 0.8350973129272461)\n",
            "('არსებები', 0.8056425452232361)\n",
            "('დემონები', 0.8028587102890015)\n",
            "('არსებებს', 0.8012523651123047)\n",
            "('არსებებად', 0.7943331003189087)\n",
            "('არსებად', 0.789718747138977)\n",
            "('არსებანი', 0.7854664325714111)\n",
            "('არსებაა', 0.7757723331451416)\n",
            "('გეა', 0.7722355723381042)\n",
            "('ყოვლისშემძლე', 0.7706775665283203)\n",
            "('არსებების', 0.7645055055618286)\n",
            "('სულები', 0.7611775994300842)\n",
            "('მოკვდავი', 0.7600510120391846)\n",
            "('დემონებზე', 0.754485011100769)\n",
            "('ღმერთებზე', 0.7539801597595215)\n",
            "('ლოპარების', 0.7538608312606812)\n",
            "('კარმას', 0.7527127265930176)\n",
            "('არსებათა', 0.7514225840568542)\n",
            "('ჰუმანოიდური', 0.7510616183280945)\n",
            "('სხეულისგან', 0.747897744178772)\n",
            "('ადამიან', 0.7469550371170044)\n",
            "('ღმერთები', 0.7469128370285034)\n",
            "('არსებაზე', 0.7454417943954468)\n",
            "('ღმერთია', 0.7444026470184326)\n",
            "('სულებისა', 0.7416738271713257)\n",
            "('მოგიზგიზე', 0.7412869334220886)\n",
            "('სილამაზესა', 0.7398790121078491)\n",
            "('ობობის', 0.7397568821907043)\n",
            "('მსგავსს', 0.7365857362747192)\n",
            "('მრავალთავიანი', 0.736303448677063)\n"
          ]
        }
      ]
    },
    {
      "cell_type": "code",
      "metadata": {
        "id": "tLuAjAlcIrpi",
        "colab": {
          "base_uri": "https://localhost:8080/"
        },
        "outputId": "d636ba4d-87fa-474a-dc34-dcb6bf307344"
      },
      "source": [
        "# blue\n",
        "similar_words = word_vectors_own.most_similar('ლურჯი', topn=30) \n",
        "print('\\n'.join([str(tup) for tup in similar_words]))"
      ],
      "execution_count": null,
      "outputs": [
        {
          "output_type": "stream",
          "name": "stdout",
          "text": [
            "('თეთრი', 0.8326250910758972)\n",
            "('მწვანე', 0.8310437202453613)\n",
            "('ფერი', 0.8173065185546875)\n",
            "('ყვითელი', 0.8154611587524414)\n",
            "('წითელი', 0.8072329759597778)\n",
            "('ოქროსფერი', 0.8043473958969116)\n",
            "('ცისფერ', 0.8018262386322021)\n",
            "('ვარდისფერი', 0.7977309823036194)\n",
            "('ოქროსფერ', 0.7818973660469055)\n",
            "('ფერებია', 0.7646973133087158)\n",
            "('იასამნისფერი', 0.7630882263183594)\n",
            "('ვერცხლისფერი', 0.7574926018714905)\n",
            "('მუქი', 0.754925549030304)\n",
            "('ცისფერი', 0.7541515827178955)\n",
            "('სტაფილოსფერი', 0.7397026419639587)\n",
            "('თეთრ', 0.7386224269866943)\n",
            "('ფერებშია', 0.7350391745567322)\n",
            "('ნარინჯისფერი', 0.7323054671287537)\n",
            "('ფერებად', 0.7321016788482666)\n",
            "('წითელ', 0.7310094833374023)\n",
            "('შორტები', 0.7249136567115784)\n",
            "('იისფერი', 0.7244935035705566)\n",
            "('ვერცხლისფერ', 0.7243334054946899)\n",
            "('ფერისაა', 0.7218009233474731)\n",
            "('ფერით', 0.7189768552780151)\n",
            "('ყავისფერი', 0.7142767906188965)\n",
            "('ნახევარმთვარე', 0.7126744389533997)\n",
            "('მოწითალო', 0.7084356546401978)\n",
            "('იისფერ', 0.7074872255325317)\n",
            "('ნარინჯისფერ', 0.7070273160934448)\n"
          ]
        }
      ]
    },
    {
      "cell_type": "code",
      "metadata": {
        "id": "zGuQWHznIuXV"
      },
      "source": [
        "# france\n",
        "similar_words = word_vectors_own.most_similar('საფრანგეთი', topn=10)\n",
        "print('\\n'.join([str(tup) for tup in similar_words]))"
      ],
      "execution_count": null,
      "outputs": []
    },
    {
      "cell_type": "code",
      "metadata": {
        "id": "rzFct-O4IzYr",
        "colab": {
          "base_uri": "https://localhost:8080/"
        },
        "outputId": "b9eab09b-653d-4123-f935-c5d06b6d5564"
      },
      "source": [
        "# x is to king as woman is to man\n",
        "analogous_words = word_vectors_own.most_similar(negative=['კაცი'], positive=['მეფე','ქალი'])\n",
        "print('\\n'.join([str(tup) for tup in analogous_words]))"
      ],
      "execution_count": null,
      "outputs": [
        {
          "output_type": "stream",
          "name": "stdout",
          "text": [
            "('დედოფალი', 0.7610162496566772)\n",
            "('ფარაონის', 0.6152430772781372)\n",
            "('მეფეების', 0.6116519570350647)\n",
            "('სამეფო', 0.6032817363739014)\n",
            "('დედოფლად', 0.5937286615371704)\n",
            "('ამენჰოტეპ', 0.5872259140014648)\n",
            "('სეთი', 0.5852410197257996)\n",
            "('მეფეა', 0.577671229839325)\n",
            "('მემკვიდრის', 0.5736474990844727)\n",
            "('სტიუარტების', 0.5730718970298767)\n"
          ]
        }
      ]
    },
    {
      "cell_type": "code",
      "metadata": {
        "id": "Q60fDwHXI3RL"
      },
      "source": [
        "# x is to king as woman is to man\n",
        "# x = small + biggest - big\n",
        "# 𝑥−𝑣𝑒𝑐𝑡𝑜𝑟(′𝑠𝑚𝑎𝑙𝑙′)=𝑣𝑒𝑐𝑡𝑜𝑟(′𝑏𝑖𝑔𝑔𝑒𝑠𝑡′)−𝑣𝑒𝑐𝑡𝑜𝑟(′𝑏𝑖𝑔′) \n",
        "# ∴ 𝑥=𝑣𝑒𝑐𝑡𝑜𝑟(′𝑠𝑚𝑎𝑙𝑙′)+𝑣𝑒𝑐𝑡𝑜𝑟(′𝑏𝑖𝑔𝑔𝑒𝑠𝑡′)−𝑣𝑒𝑐𝑡𝑜𝑟(′𝑏𝑖𝑔′) \n",
        "# ∴ 𝑥=𝑣𝑒𝑐𝑡𝑜𝑟(′փոքր′)+𝑣𝑒𝑐𝑡𝑜𝑟(′ամենամեծը′)−𝑣𝑒𝑐𝑡𝑜𝑟(′մեծ′) \n",
        "analogous_words = word_vectors_own.most_similar(negative=['პირი'], positive=['ხალხი','ქალიშვილი'])\n",
        "print('\\n'.join([str(tup) for tup in analogous_words]))"
      ],
      "execution_count": null,
      "outputs": []
    },
    {
      "cell_type": "code",
      "metadata": {
        "id": "czmhvtc-JB4C"
      },
      "source": [
        "# try your own examples... (also -- morphology?)\n",
        "# # x is to daughter as people is to person (plural + daughter)\n",
        "# analogous_words = word_vectors.most_similar(negative=['person'], positive=['people','daughter'])"
      ],
      "execution_count": null,
      "outputs": []
    },
    {
      "cell_type": "code",
      "metadata": {
        "id": "ZUFzOu3eIrGr"
      },
      "source": [
        ""
      ],
      "execution_count": null,
      "outputs": []
    },
    {
      "cell_type": "markdown",
      "metadata": {
        "id": "Wvj5B2qdJDt6"
      },
      "source": [
        "### Armenian examples"
      ]
    },
    {
      "cell_type": "code",
      "metadata": {
        "id": "ZUVomonLWzHM"
      },
      "source": [
        "# See the word vector for a particular word -- 'world'\n",
        "vector = word_vectors_own['աշխարհը']\n",
        "print(vector)"
      ],
      "execution_count": null,
      "outputs": []
    },
    {
      "cell_type": "code",
      "metadata": {
        "id": "ga4LQhZJXmYV"
      },
      "source": [
        "# See which words are closest to a given word in the vector space = 'world'\n",
        "similar_words = word_vectors_own.most_similar('աշխարհը', topn=10)\n",
        "print('\\n'.join([str(tup) for tup in similar_words]))"
      ],
      "execution_count": null,
      "outputs": []
    },
    {
      "cell_type": "code",
      "metadata": {
        "id": "9ECDUd8AXsF0"
      },
      "source": [
        "# blue\n",
        "similar_words = word_vectors_own.most_similar('կապույտ', topn=10) \n",
        "print('\\n'.join([str(tup) for tup in similar_words]))"
      ],
      "execution_count": null,
      "outputs": []
    },
    {
      "cell_type": "code",
      "metadata": {
        "id": "EKAl9NVdX8SM"
      },
      "source": [
        "# france\n",
        "similar_words = word_vectors_own.most_similar('ֆրանսիա', topn=10)\n",
        "print('\\n'.join([str(tup) for tup in similar_words]))"
      ],
      "execution_count": null,
      "outputs": []
    },
    {
      "cell_type": "code",
      "metadata": {
        "id": "492wftrxZRhR"
      },
      "source": [
        "# x is to king as woman is to man\n",
        "analogous_words = word_vectors_own.most_similar(negative=['մարդ'], positive=['թագավոր','կին'])\n",
        "print('\\n'.join([str(tup) for tup in analogous_words]))"
      ],
      "execution_count": null,
      "outputs": []
    },
    {
      "cell_type": "code",
      "metadata": {
        "id": "5HOugAyWbYCE"
      },
      "source": [
        "# x is to king as woman is to man\n",
        "# x = small + biggest - big\n",
        "# 𝑥−𝑣𝑒𝑐𝑡𝑜𝑟(′𝑠𝑚𝑎𝑙𝑙′)=𝑣𝑒𝑐𝑡𝑜𝑟(′𝑏𝑖𝑔𝑔𝑒𝑠𝑡′)−𝑣𝑒𝑐𝑡𝑜𝑟(′𝑏𝑖𝑔′) \n",
        "# ∴ 𝑥=𝑣𝑒𝑐𝑡𝑜𝑟(′𝑠𝑚𝑎𝑙𝑙′)+𝑣𝑒𝑐𝑡𝑜𝑟(′𝑏𝑖𝑔𝑔𝑒𝑠𝑡′)−𝑣𝑒𝑐𝑡𝑜𝑟(′𝑏𝑖𝑔′) \n",
        "# ∴ 𝑥=𝑣𝑒𝑐𝑡𝑜𝑟(′փոքր′)+𝑣𝑒𝑐𝑡𝑜𝑟(′ամենամեծը′)−𝑣𝑒𝑐𝑡𝑜𝑟(′մեծ′) \n",
        "analogous_words = word_vectors_own.most_similar(negative=['մեծ'], positive=['ամենամեծը','փոքր'])\n",
        "print('\\n'.join([str(tup) for tup in analogous_words]))"
      ],
      "execution_count": null,
      "outputs": []
    },
    {
      "cell_type": "code",
      "metadata": {
        "id": "Qz1h1O-MaY4J"
      },
      "source": [
        "# try your own examples... (also -- morphology?)\n",
        "# # x is to daughter as people is to person (plural + daughter)\n",
        "# analogous_words = word_vectors.most_similar(negative=['person'], positive=['people','daughter'])"
      ],
      "execution_count": null,
      "outputs": []
    }
  ]
}